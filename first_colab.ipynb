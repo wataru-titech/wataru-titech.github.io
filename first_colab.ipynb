{
  "nbformat": 4,
  "nbformat_minor": 0,
  "metadata": {
    "colab": {
      "provenance": [],
      "authorship_tag": "ABX9TyNP6C3YlkmIvA3tAENKa+xg",
      "include_colab_link": true
    },
    "kernelspec": {
      "name": "python3",
      "display_name": "Python 3"
    },
    "language_info": {
      "name": "python"
    }
  },
  "cells": [
    {
      "cell_type": "markdown",
      "metadata": {
        "id": "view-in-github",
        "colab_type": "text"
      },
      "source": [
        "<a href=\"https://colab.research.google.com/github/wataru-titech/wataru-titech.github.io/blob/main/first_colab.ipynb\" target=\"_parent\"><img src=\"https://colab.research.google.com/assets/colab-badge.svg\" alt=\"Open In Colab\"/></a>"
      ]
    },
    {
      "cell_type": "markdown",
      "source": [
        "**Python**で人工知能のコードを書いていきましょう。\\\n",
        "マークダウン方式\\\n",
        "wataru\\\n",
        "\n",
        "---\n",
        "\n",
        "### 新しいセクション\n",
        "$$f=Δxθa^2_{1}∂x/∂y\\cosθ$$\n",
        "\n",
        "\n",
        "\n",
        "1.   リスト項目\n",
        "\n",
        "*   リスト項目\n",
        "*   リスト項目\n",
        "\n",
        "[リンクテキスト](https://)\n",
        "2.   リスト項目\n",
        "\n",
        "\n",
        "> fafa\\\n",
        "\n",
        "\n",
        "[グーグル検索](https://googl.com)\n",
        "\n",
        "#みんなのAI講座\n",
        "$$y=2x+1$$\n",
        "\n",
        "\n"
      ],
      "metadata": {
        "id": "z6xoRlSz4FZP"
      }
    },
    {
      "cell_type": "code",
      "source": [],
      "metadata": {
        "id": "o7gNqiz-6jfh"
      },
      "execution_count": null,
      "outputs": []
    },
    {
      "cell_type": "code",
      "execution_count": null,
      "metadata": {
        "colab": {
          "base_uri": "https://localhost:8080/"
        },
        "id": "e4ijCuzj3kDb",
        "outputId": "143e668a-162f-4802-aa9f-d5cf1655959b"
      },
      "outputs": [
        {
          "output_type": "stream",
          "name": "stdout",
          "text": [
            "Hello World!\n"
          ]
        }
      ],
      "source": [
        "print(\"Hello World!\")"
      ]
    },
    {
      "cell_type": "code",
      "source": [
        "a=1\n",
        "b=2\n",
        "print(a+b)"
      ],
      "metadata": {
        "colab": {
          "base_uri": "https://localhost:8080/"
        },
        "id": "_66RyOR131bN",
        "outputId": "e47279d1-8d3a-443d-bb05-80b1adfcd56f"
      },
      "execution_count": null,
      "outputs": [
        {
          "output_type": "stream",
          "name": "stdout",
          "text": [
            "3\n"
          ]
        }
      ]
    }
  ]
}